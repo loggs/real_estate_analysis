{
 "cells": [
  {
   "cell_type": "code",
   "execution_count": 10,
   "metadata": {},
   "outputs": [],
   "source": [
    "import pandas as pd\n",
    "import itertools"
   ]
  },
  {
   "cell_type": "code",
   "execution_count": 3,
   "metadata": {},
   "outputs": [],
   "source": [
    "homes = pd.read_csv('data/Zip_Zhvi_SingleFamilyResidence.csv')"
   ]
  },
  {
   "cell_type": "code",
   "execution_count": 6,
   "metadata": {},
   "outputs": [
    {
     "data": {
      "text/plain": [
       "(15360, 275)"
      ]
     },
     "execution_count": 6,
     "metadata": {},
     "output_type": "execute_result"
    }
   ],
   "source": [
    "homes.shape"
   ]
  },
  {
   "cell_type": "code",
   "execution_count": 4,
   "metadata": {},
   "outputs": [
    {
     "data": {
      "text/html": [
       "<div>\n",
       "<style scoped>\n",
       "    .dataframe tbody tr th:only-of-type {\n",
       "        vertical-align: middle;\n",
       "    }\n",
       "\n",
       "    .dataframe tbody tr th {\n",
       "        vertical-align: top;\n",
       "    }\n",
       "\n",
       "    .dataframe thead th {\n",
       "        text-align: right;\n",
       "    }\n",
       "</style>\n",
       "<table border=\"1\" class=\"dataframe\">\n",
       "  <thead>\n",
       "    <tr style=\"text-align: right;\">\n",
       "      <th></th>\n",
       "      <th>RegionID</th>\n",
       "      <th>RegionName</th>\n",
       "      <th>City</th>\n",
       "      <th>State</th>\n",
       "      <th>Metro</th>\n",
       "      <th>CountyName</th>\n",
       "      <th>SizeRank</th>\n",
       "      <th>1996-04</th>\n",
       "      <th>1996-05</th>\n",
       "      <th>1996-06</th>\n",
       "      <th>...</th>\n",
       "      <th>2017-10</th>\n",
       "      <th>2017-11</th>\n",
       "      <th>2017-12</th>\n",
       "      <th>2018-01</th>\n",
       "      <th>2018-02</th>\n",
       "      <th>2018-03</th>\n",
       "      <th>2018-04</th>\n",
       "      <th>2018-05</th>\n",
       "      <th>2018-06</th>\n",
       "      <th>2018-07</th>\n",
       "    </tr>\n",
       "  </thead>\n",
       "  <tbody>\n",
       "    <tr>\n",
       "      <th>0</th>\n",
       "      <td>84654</td>\n",
       "      <td>60657</td>\n",
       "      <td>Chicago</td>\n",
       "      <td>IL</td>\n",
       "      <td>Chicago</td>\n",
       "      <td>Cook</td>\n",
       "      <td>1</td>\n",
       "      <td>334200.0</td>\n",
       "      <td>335400.0</td>\n",
       "      <td>336500.0</td>\n",
       "      <td>...</td>\n",
       "      <td>1009200</td>\n",
       "      <td>1012200</td>\n",
       "      <td>1018100</td>\n",
       "      <td>1024500</td>\n",
       "      <td>1029400</td>\n",
       "      <td>1031600</td>\n",
       "      <td>1032400</td>\n",
       "      <td>1034400</td>\n",
       "      <td>1035400</td>\n",
       "      <td>1033600</td>\n",
       "    </tr>\n",
       "    <tr>\n",
       "      <th>1</th>\n",
       "      <td>90668</td>\n",
       "      <td>75070</td>\n",
       "      <td>McKinney</td>\n",
       "      <td>TX</td>\n",
       "      <td>Dallas-Fort Worth</td>\n",
       "      <td>Collin</td>\n",
       "      <td>2</td>\n",
       "      <td>235700.0</td>\n",
       "      <td>236900.0</td>\n",
       "      <td>236700.0</td>\n",
       "      <td>...</td>\n",
       "      <td>313800</td>\n",
       "      <td>315000</td>\n",
       "      <td>316700</td>\n",
       "      <td>319000</td>\n",
       "      <td>321300</td>\n",
       "      <td>322600</td>\n",
       "      <td>323300</td>\n",
       "      <td>324200</td>\n",
       "      <td>324400</td>\n",
       "      <td>323500</td>\n",
       "    </tr>\n",
       "    <tr>\n",
       "      <th>2</th>\n",
       "      <td>91982</td>\n",
       "      <td>77494</td>\n",
       "      <td>Katy</td>\n",
       "      <td>TX</td>\n",
       "      <td>Houston</td>\n",
       "      <td>Harris</td>\n",
       "      <td>3</td>\n",
       "      <td>210400.0</td>\n",
       "      <td>212200.0</td>\n",
       "      <td>212200.0</td>\n",
       "      <td>...</td>\n",
       "      <td>320400</td>\n",
       "      <td>320900</td>\n",
       "      <td>321200</td>\n",
       "      <td>322700</td>\n",
       "      <td>326400</td>\n",
       "      <td>330200</td>\n",
       "      <td>332500</td>\n",
       "      <td>334300</td>\n",
       "      <td>335800</td>\n",
       "      <td>336600</td>\n",
       "    </tr>\n",
       "    <tr>\n",
       "      <th>3</th>\n",
       "      <td>84616</td>\n",
       "      <td>60614</td>\n",
       "      <td>Chicago</td>\n",
       "      <td>IL</td>\n",
       "      <td>Chicago</td>\n",
       "      <td>Cook</td>\n",
       "      <td>4</td>\n",
       "      <td>498100.0</td>\n",
       "      <td>500900.0</td>\n",
       "      <td>503100.0</td>\n",
       "      <td>...</td>\n",
       "      <td>1290800</td>\n",
       "      <td>1295800</td>\n",
       "      <td>1299000</td>\n",
       "      <td>1305000</td>\n",
       "      <td>1310000</td>\n",
       "      <td>1311700</td>\n",
       "      <td>1313600</td>\n",
       "      <td>1316400</td>\n",
       "      <td>1314300</td>\n",
       "      <td>1309400</td>\n",
       "    </tr>\n",
       "    <tr>\n",
       "      <th>4</th>\n",
       "      <td>93144</td>\n",
       "      <td>79936</td>\n",
       "      <td>El Paso</td>\n",
       "      <td>TX</td>\n",
       "      <td>El Paso</td>\n",
       "      <td>El Paso</td>\n",
       "      <td>5</td>\n",
       "      <td>77300.0</td>\n",
       "      <td>77300.0</td>\n",
       "      <td>77300.0</td>\n",
       "      <td>...</td>\n",
       "      <td>120400</td>\n",
       "      <td>120400</td>\n",
       "      <td>120300</td>\n",
       "      <td>120400</td>\n",
       "      <td>120500</td>\n",
       "      <td>120700</td>\n",
       "      <td>121200</td>\n",
       "      <td>122100</td>\n",
       "      <td>122900</td>\n",
       "      <td>123300</td>\n",
       "    </tr>\n",
       "  </tbody>\n",
       "</table>\n",
       "<p>5 rows × 275 columns</p>\n",
       "</div>"
      ],
      "text/plain": [
       "   RegionID  RegionName      City State              Metro CountyName  \\\n",
       "0     84654       60657   Chicago    IL            Chicago       Cook   \n",
       "1     90668       75070  McKinney    TX  Dallas-Fort Worth     Collin   \n",
       "2     91982       77494      Katy    TX            Houston     Harris   \n",
       "3     84616       60614   Chicago    IL            Chicago       Cook   \n",
       "4     93144       79936   El Paso    TX            El Paso    El Paso   \n",
       "\n",
       "   SizeRank   1996-04   1996-05   1996-06   ...     2017-10  2017-11  2017-12  \\\n",
       "0         1  334200.0  335400.0  336500.0   ...     1009200  1012200  1018100   \n",
       "1         2  235700.0  236900.0  236700.0   ...      313800   315000   316700   \n",
       "2         3  210400.0  212200.0  212200.0   ...      320400   320900   321200   \n",
       "3         4  498100.0  500900.0  503100.0   ...     1290800  1295800  1299000   \n",
       "4         5   77300.0   77300.0   77300.0   ...      120400   120400   120300   \n",
       "\n",
       "   2018-01  2018-02  2018-03  2018-04  2018-05  2018-06  2018-07  \n",
       "0  1024500  1029400  1031600  1032400  1034400  1035400  1033600  \n",
       "1   319000   321300   322600   323300   324200   324400   323500  \n",
       "2   322700   326400   330200   332500   334300   335800   336600  \n",
       "3  1305000  1310000  1311700  1313600  1316400  1314300  1309400  \n",
       "4   120400   120500   120700   121200   122100   122900   123300  \n",
       "\n",
       "[5 rows x 275 columns]"
      ]
     },
     "execution_count": 4,
     "metadata": {},
     "output_type": "execute_result"
    }
   ],
   "source": [
    "homes.head()"
   ]
  },
  {
   "cell_type": "code",
   "execution_count": 21,
   "metadata": {},
   "outputs": [],
   "source": [
    "# Auto generate years and months to use for analysis\n",
    "years = range(2005, 2013)\n",
    "months = range(1,13)\n",
    "desired_dates = ['{y}-{m:02d}'.format(y=year, m=month) for year, month in itertools.product(years, months)]"
   ]
  },
  {
   "cell_type": "code",
   "execution_count": 22,
   "metadata": {},
   "outputs": [],
   "source": [
    "# Get MoM growth\n",
    "crash_homes = homes.loc[:, ['RegionID', 'RegionName', 'City', 'State', 'Metro', 'CountyName',\n",
    "                        'SizeRank'] + desired_dates ]"
   ]
  },
  {
   "cell_type": "code",
   "execution_count": 29,
   "metadata": {},
   "outputs": [],
   "source": [
    "growth_dates = desired_dates[1:]\n",
    "start_date = desired_dates[0]\n",
    "for date in growth_dates:\n",
    "    crash_homes.loc[:, date + '_growth'] = (( crash_homes[date] - crash_homes[start_date] ) / crash_homes[start_date]) * 100\n",
    "    start_date = date "
   ]
  },
  {
   "cell_type": "code",
   "execution_count": 31,
   "metadata": {},
   "outputs": [],
   "source": [
    "crash_homes.to_csv('test.csv')"
   ]
  },
  {
   "cell_type": "code",
   "execution_count": null,
   "metadata": {},
   "outputs": [],
   "source": []
  }
 ],
 "metadata": {
  "kernelspec": {
   "display_name": "Python 3",
   "language": "python",
   "name": "python3"
  },
  "language_info": {
   "codemirror_mode": {
    "name": "ipython",
    "version": 3
   },
   "file_extension": ".py",
   "mimetype": "text/x-python",
   "name": "python",
   "nbconvert_exporter": "python",
   "pygments_lexer": "ipython3",
   "version": "3.6.4"
  }
 },
 "nbformat": 4,
 "nbformat_minor": 2
}
